{
 "cells": [
  {
   "cell_type": "code",
   "execution_count": 4,
   "id": "0666b6ee-ca78-4622-98a0-2e789e489174",
   "metadata": {},
   "outputs": [],
   "source": [
    "import streamlit as st\n",
    "import pandas as pd\n",
    "\n",
    "# Load the data\n",
    "df = pd.read_csv('infectious_diseases_data.csv')\n",
    "\n",
    "# Title of your app\n",
    "st.title(\"Infectious Diseases Data EDA App\")\n",
    "\n",
    "# Display data\n",
    "st.write(df.head())"
   ]
  }
 ],
 "metadata": {
  "kernelspec": {
   "display_name": "Python 3 (ipykernel)",
   "language": "python",
   "name": "python3"
  },
  "language_info": {
   "codemirror_mode": {
    "name": "ipython",
    "version": 3
   },
   "file_extension": ".py",
   "mimetype": "text/x-python",
   "name": "python",
   "nbconvert_exporter": "python",
   "pygments_lexer": "ipython3",
   "version": "3.11.7"
  }
 },
 "nbformat": 4,
 "nbformat_minor": 5
}
